{
 "cells": [
  {
   "cell_type": "code",
   "execution_count": null,
   "metadata": {},
   "outputs": [],
   "source": []
  },
  {
   "cell_type": "markdown",
   "metadata": {},
   "source": [
    "# If, Else y Elif "
   ]
  },
  {
   "cell_type": "markdown",
   "metadata": {},
   "source": [
    "### Asteroide a 49km/hr\n"
   ]
  },
  {
   "cell_type": "code",
   "execution_count": 12,
   "metadata": {},
   "outputs": [
    {
     "name": "stdout",
     "output_type": "stream",
     "text": [
      "Peligro, Asteroide se acerca\n"
     ]
    }
   ],
   "source": [
    "VelAst = 49\n",
    "\n",
    "if VelAst > 25:\n",
    "    print(\"Peligro, Asteroide se acerca\")\n",
    "\n",
    "else:\n",
    "    print(\"Tierra a salvo\")    "
   ]
  },
  {
   "cell_type": "markdown",
   "metadata": {},
   "source": [
    "### Asteroide a 19km/hr"
   ]
  },
  {
   "cell_type": "code",
   "execution_count": 13,
   "metadata": {},
   "outputs": [
    {
     "name": "stdout",
     "output_type": "stream",
     "text": [
      "Tierra a salvo\n"
     ]
    }
   ],
   "source": [
    "VelAst2 = 19\n",
    "\n",
    "if VelAst2 >= 20:\n",
    "    print(\"Mira el cielo, puede que veas una luz de asteroide\")\n",
    "\n",
    "else:\n",
    "    print(\"Tierra a salvo\") \n"
   ]
  },
  {
   "cell_type": "markdown",
   "metadata": {},
   "source": [
    "### Operadores and y or"
   ]
  },
  {
   "cell_type": "code",
   "execution_count": 15,
   "metadata": {},
   "outputs": [
    {
     "name": "stdout",
     "output_type": "stream",
     "text": [
      "Ingresa Velocidad del Asteroide: \n",
      "Ingresa Tamano del Asteroide: \n",
      "Peligro, Asteroide acercandose\n"
     ]
    }
   ],
   "source": [
    "print(\"Ingresa Velocidad del Asteroide: \")\n",
    "VelAstIN=int(input())\n",
    "print(\"Ingresa Tamano del Asteroide: \")\n",
    "TamAstIN=int(input())\n",
    "\n",
    "if VelAstIN > 25 and VelAstIN > 25:\n",
    "    print(\"Peligro, Asteroide acercandose\")\n",
    "\n",
    "elif VelAstIN < 25 and VelAstIN < 25: \n",
    "    print(\"Calma, no pasara nada\")\n",
    "\n",
    "elif VelAstIN >= 20:\n",
    "    print(\"Mira al cielo, puede que veas una luz de asteroide\")\n"
   ]
  }
 ],
 "metadata": {
  "interpreter": {
   "hash": "3af8178c51aa9b189a855240be185b8b57d9260723a94cbc31013b0fa7e70593"
  },
  "kernelspec": {
   "display_name": "Python 3.10.2 64-bit",
   "language": "python",
   "name": "python3"
  },
  "language_info": {
   "codemirror_mode": {
    "name": "ipython",
    "version": 3
   },
   "file_extension": ".py",
   "mimetype": "text/x-python",
   "name": "python",
   "nbconvert_exporter": "python",
   "pygments_lexer": "ipython3",
   "version": "3.10.2"
  },
  "orig_nbformat": 4
 },
 "nbformat": 4,
 "nbformat_minor": 2
}
