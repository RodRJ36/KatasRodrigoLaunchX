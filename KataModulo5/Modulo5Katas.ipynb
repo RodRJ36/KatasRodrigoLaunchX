{
 "cells": [
  {
   "cell_type": "markdown",
   "metadata": {},
   "source": [
    "# Operadores Artimeticos"
   ]
  },
  {
   "cell_type": "code",
   "execution_count": 3,
   "metadata": {},
   "outputs": [],
   "source": [
    "# Declaramos variables\n",
    "TierraD = 149597870\n",
    "JupiterD = 778547200"
   ]
  },
  {
   "cell_type": "code",
   "execution_count": 11,
   "metadata": {},
   "outputs": [
    {
     "name": "stdout",
     "output_type": "stream",
     "text": [
      "Distancia en KM:  628949330\n",
      "Distancia en Millas:  390577533.93\n"
     ]
    }
   ],
   "source": [
    "# Operacion\n",
    "DistanciaKM = -1*(TierraD - JupiterD)\n",
    "DistanciaMi = DistanciaKM*0.621\n",
    "print(\"Distancia en KM: \",DistanciaKM)\n",
    "print(\"Distancia en Millas: \",DistanciaMi)"
   ]
  },
  {
   "cell_type": "markdown",
   "metadata": {},
   "source": [
    "# Cadenas de Numeros"
   ]
  },
  {
   "cell_type": "code",
   "execution_count": 16,
   "metadata": {},
   "outputs": [],
   "source": [
    "PD1 = int(input('Introduzca la distancia del sol para el primer planeta en KM: '))\n",
    "PD2 = int(input('Introduzca la distancia desde el sol para el segundo planeta en KM: '))"
   ]
  },
  {
   "cell_type": "code",
   "execution_count": 17,
   "metadata": {},
   "outputs": [
    {
     "name": "stdout",
     "output_type": "stream",
     "text": [
      "5589166106\n",
      "3470872151.826\n"
     ]
    }
   ],
   "source": [
    "DKM = PD1 - PD2   # Distancia entre planetas en KM\n",
    "print(abs(DKM))\n",
    "\n",
    "DMi = DKM * 0.621 # Distancia entre planetas en Millas\n",
    "print(abs(DMi))\n"
   ]
  }
 ],
 "metadata": {
  "interpreter": {
   "hash": "3af8178c51aa9b189a855240be185b8b57d9260723a94cbc31013b0fa7e70593"
  },
  "kernelspec": {
   "display_name": "Python 3.10.2 64-bit",
   "language": "python",
   "name": "python3"
  },
  "language_info": {
   "codemirror_mode": {
    "name": "ipython",
    "version": 3
   },
   "file_extension": ".py",
   "mimetype": "text/x-python",
   "name": "python",
   "nbconvert_exporter": "python",
   "pygments_lexer": "ipython3",
   "version": "3.10.2"
  },
  "orig_nbformat": 4
 },
 "nbformat": 4,
 "nbformat_minor": 2
}
